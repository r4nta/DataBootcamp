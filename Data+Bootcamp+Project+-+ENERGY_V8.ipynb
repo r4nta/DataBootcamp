{
 "cells": [
  {
   "cell_type": "markdown",
   "metadata": {},
   "source": [
    "# Data Bootcamp Team Project \n",
    "\n",
    "## Power Price and Weather Conditions in Germany: Correlation and Predictions "
   ]
  },
  {
   "cell_type": "markdown",
   "metadata": {},
   "source": [
    "### Prepared by: \n",
    "#### Elina Movsesyan, Andreas Ramon Canel, Giuseppe Miceli "
   ]
  },
  {
   "cell_type": "markdown",
   "metadata": {},
   "source": [
    "The challenges of energy efficiency, consumption and storage, as well as price fluctuations are among the most important issues for the modern society. One of the answers to these challenges are the Smart Grids that are used in many countries. Smart Grids are intelligent data grids that contain excessive amount of data about the environment and factors that affect the energy demand. Smart Grids are trying to understand the relationship between energy demand and other variables, as well as climate variables, in order to better forecast the energy demand and adapt the demand and supply. Obviously, one of the factors of energy demand is the energy price. \n",
    "\n",
    "According to many studies, there is strong correlation between the weather conditions and next day power price in countries that are big on renewable energy. In some cases the price can even become negative since there are limitations on energy storage. The purpose of this project is to define the relationship between weather conditions and power price in Germany, the world leader in renewable energy. Besides defining the correlation, we will try to identify what type of weather conditions affect energy price the most and which sources of renewables are playing the important role in this correlation.  \n",
    "\n",
    "To analyze the correlation between weather conditions and energy production/energy price, as well as to visualize the change of some energy indicators throughout 2017, we are using such data as Actual Energy Generation by Source (DataFrame = type2017), Energy Load (DataFrame = load2017), Change in Energy Capacity by Source (DataFrame = capa2017), Energy Prices (DataFrame = price2017), ..."
   ]
  },
  {
   "cell_type": "code",
   "execution_count": 58,
   "metadata": {},
   "outputs": [
    {
     "name": "stdout",
     "output_type": "stream",
     "text": [
      "Today is 2017-12-20\n",
      "Python version:\n",
      "3.6.2 |Anaconda, Inc.| (default, Sep 19 2017, 08:03:39) [MSC v.1900 64 bit (AMD64)]\n",
      "Time:  12:07:38.812028\n"
     ]
    }
   ],
   "source": [
    "# import packages \n",
    "import pandas as pd                   # data management\n",
    "import matplotlib as mpl\n",
    "import matplotlib.pyplot as plt       # graphics \n",
    "import datetime as dt                 # check today's date \n",
    "import sys                            # check Python version\n",
    "import numpy as np\n",
    "\n",
    "# IPython command, puts plots in notebook \n",
    "%matplotlib inline\n",
    "\n",
    "print('Today is', dt.date.today())\n",
    "print('Python version:\\n', sys.version, sep='')\n",
    "print('Time: ',dt.datetime.now().time())"
   ]
  },
  {
   "cell_type": "code",
   "execution_count": 46,
   "metadata": {
    "collapsed": true
   },
   "outputs": [],
   "source": [
    "#to change directory if required\n",
    "\n",
    "#import os\n",
    "#os.getcwd()\n",
    "#os.chdir(r\"D:\\1 MBA\\Exchange\\Classes\\Data Mining\\Kaggle\")\n",
    "#os.getcwd()"
   ]
  },
  {
   "cell_type": "code",
   "execution_count": 2,
   "metadata": {},
   "outputs": [
    {
     "name": "stdout",
     "output_type": "stream",
     "text": [
      "Actual Load\n",
      "Shape:  (35044, 3)\n",
      "Index(['Time (CET)', 'Day-ahead Total Load Forecast [MW] - BZN|DE-AT-LU',\n",
      "       'Actual Total Load [MW] - BZN|DE-AT-LU'],\n",
      "      dtype='object')\n",
      "Time (CET)                                           object\n",
      "Day-ahead Total Load Forecast [MW] - BZN|DE-AT-LU    object\n",
      "Actual Total Load [MW] - BZN|DE-AT-LU                object\n",
      "dtype: object\n",
      "\n",
      "---------------------------\n",
      "\n",
      "Production Type\n",
      "Shape:  (35044, 23)\n",
      "Index(['Area', 'MTU', 'Biomass  - Actual Aggregated [MW]',\n",
      "       'Fossil Brown coal/Lignite  - Actual Aggregated [MW]',\n",
      "       'Fossil Coal-derived gas  - Actual Aggregated [MW]',\n",
      "       'Fossil Gas  - Actual Aggregated [MW]',\n",
      "       'Fossil Hard coal  - Actual Aggregated [MW]',\n",
      "       'Fossil Oil  - Actual Aggregated [MW]',\n",
      "       'Fossil Oil shale  - Actual Aggregated [MW]',\n",
      "       'Fossil Peat  - Actual Aggregated [MW]',\n",
      "       'Geothermal  - Actual Aggregated [MW]',\n",
      "       'Hydro Pumped Storage  - Actual Aggregated [MW]',\n",
      "       'Hydro Pumped Storage  - Actual Consumption [MW]',\n",
      "       'Hydro Run-of-river and poundage  - Actual Aggregated [MW]',\n",
      "       'Hydro Water Reservoir  - Actual Aggregated [MW]',\n",
      "       'Marine  - Actual Aggregated [MW]', 'Nuclear  - Actual Aggregated [MW]',\n",
      "       'Other  - Actual Aggregated [MW]',\n",
      "       'Other renewable  - Actual Aggregated [MW]',\n",
      "       'Solar  - Actual Aggregated [MW]', 'Waste  - Actual Aggregated [MW]',\n",
      "       'Wind Offshore  - Actual Aggregated [MW]',\n",
      "       'Wind Onshore  - Actual Aggregated [MW]'],\n",
      "      dtype='object')\n",
      "Area                                                         object\n",
      "MTU                                                          object\n",
      "Biomass  - Actual Aggregated [MW]                            object\n",
      "Fossil Brown coal/Lignite  - Actual Aggregated [MW]          object\n",
      "Fossil Coal-derived gas  - Actual Aggregated [MW]            object\n",
      "Fossil Gas  - Actual Aggregated [MW]                         object\n",
      "Fossil Hard coal  - Actual Aggregated [MW]                   object\n",
      "Fossil Oil  - Actual Aggregated [MW]                         object\n",
      "Fossil Oil shale  - Actual Aggregated [MW]                   object\n",
      "Fossil Peat  - Actual Aggregated [MW]                        object\n",
      "Geothermal  - Actual Aggregated [MW]                         object\n",
      "Hydro Pumped Storage  - Actual Aggregated [MW]               object\n",
      "Hydro Pumped Storage  - Actual Consumption [MW]              object\n",
      "Hydro Run-of-river and poundage  - Actual Aggregated [MW]    object\n",
      "Hydro Water Reservoir  - Actual Aggregated [MW]              object\n",
      "Marine  - Actual Aggregated [MW]                             object\n",
      "Nuclear  - Actual Aggregated [MW]                            object\n",
      "Other  - Actual Aggregated [MW]                              object\n",
      "Other renewable  - Actual Aggregated [MW]                    object\n",
      "Solar  - Actual Aggregated [MW]                              object\n",
      "Waste  - Actual Aggregated [MW]                              object\n",
      "Wind Offshore  - Actual Aggregated [MW]                      object\n",
      "Wind Onshore  - Actual Aggregated [MW]                       object\n",
      "dtype: object\n",
      "\n",
      "---------------------------\n",
      "\n",
      "Installed Capacity\n",
      "Shape:  (177, 10)\n",
      "Index(['Area / Date', 'Production Type', 'Code', 'Name',\n",
      "       'Intalled Capacity at the beginning of year [MW]',\n",
      "       'Current Installed Capacity [MW]', 'Location',\n",
      "       'Voltage Connection Level [V]', 'Commissioning Date',\n",
      "       'Decommissioning Date'],\n",
      "      dtype='object')\n",
      "Area / Date                                         object\n",
      "Production Type                                     object\n",
      "Code                                                object\n",
      "Name                                                object\n",
      "Intalled Capacity at the beginning of year [MW]    float64\n",
      "Current Installed Capacity [MW]                    float64\n",
      "Location                                            object\n",
      "Voltage Connection Level [V]                         int64\n",
      "Commissioning Date                                  object\n",
      "Decommissioning Date                                object\n",
      "dtype: object\n",
      "---------------------------\n",
      "\n",
      "Market Price\n",
      "Shape:  (8352, 14)\n",
      "Index(['Date', 'Time', 'Germany/Austria/Luxembourg[Euro/MWh]',\n",
      "       'Denmark 1[Euro/MWh]', 'Denmark 2[Euro/MWh]', 'France[Euro/MWh]',\n",
      "       'Northern Italy[Euro/MWh]', 'Netherlands[Euro/MWh]', 'Poland[Euro/MWh]',\n",
      "       'Sweden 4[Euro/MWh]', 'Switzerland[Euro/MWh]', 'Slovenia[Euro/MWh]',\n",
      "       'Czech Republic[Euro/MWh]', 'Hungary[Euro/MWh]'],\n",
      "      dtype='object')\n",
      "Date                                     object\n",
      "Time                                     object\n",
      "Germany/Austria/Luxembourg[Euro/MWh]    float64\n",
      "Denmark 1[Euro/MWh]                      object\n",
      "Denmark 2[Euro/MWh]                      object\n",
      "France[Euro/MWh]                         object\n",
      "Northern Italy[Euro/MWh]                 object\n",
      "Netherlands[Euro/MWh]                    object\n",
      "Poland[Euro/MWh]                         object\n",
      "Sweden 4[Euro/MWh]                       object\n",
      "Switzerland[Euro/MWh]                    object\n",
      "Slovenia[Euro/MWh]                      float64\n",
      "Czech Republic[Euro/MWh]                float64\n",
      "Hungary[Euro/MWh]                        object\n",
      "dtype: object\n"
     ]
    },
    {
     "name": "stderr",
     "output_type": "stream",
     "text": [
      "C:\\Users\\eniko\\Anaconda3\\lib\\site-packages\\IPython\\core\\interactiveshell.py:2698: DtypeWarning: Columns (2,3,4,5,6,7,10,11,12,13,14,16,17,18,19,20,21,22) have mixed types. Specify dtype option on import or set low_memory=False.\n",
      "  interactivity=interactivity, compiler=compiler, result=result)\n"
     ]
    }
   ],
   "source": [
    "#load csv's\n",
    "\n",
    "#load actual load\n",
    "load2017 = pd.read_csv('C:\\\\Users\\\\eniko\\\\Desktop\\\\Elina\\\\NYU Stern\\\\Data Bootcamp\\\\Project\\\\Total Load - Day Ahead.csv')\n",
    "load2017 = pd.DataFrame(load2017) #all load is in MW\n",
    "\n",
    "#load generation per production type\n",
    "type2017 = pd.read_csv('C:\\\\Users\\\\eniko\\\\Desktop\\\\Elina\\\\NYU Stern\\\\Data Bootcamp\\\\Project\\\\Actual Generation per Production Type.csv')\n",
    "type2017 = pd.DataFrame(type2017)\n",
    "\n",
    "#load installed capacity\n",
    "capa2017 = pd.read_csv('C:\\\\Users\\\\eniko\\\\Desktop\\\\Elina\\\\NYU Stern\\\\Data Bootcamp\\\\Project\\\\Installed Capacity Per Production Unit.csv')\n",
    "capa2017 = pd.DataFrame(capa2017)\n",
    "\n",
    "#load market prices\n",
    "price2017 = pd.read_csv('C:\\\\Users\\\\eniko\\\\Desktop\\\\Elina\\\\NYU Stern\\\\Data Bootcamp\\\\Project\\\\DE-AT-LU_Day-ahead prices.csv')\n",
    "price2017 = pd.DataFrame(price2017)\n",
    "\n",
    "print('Actual Load')\n",
    "print('Shape: ',load2017.shape) \n",
    "print(load2017.columns)\n",
    "print(load2017.dtypes)\n",
    "print()\n",
    "print('---------------------------')\n",
    "print()\n",
    "print('Production Type')\n",
    "print('Shape: ',type2017.shape)\n",
    "print(type2017.columns)\n",
    "print(type2017.dtypes)\n",
    "print()\n",
    "print('---------------------------')\n",
    "print()\n",
    "print('Installed Capacity')\n",
    "print('Shape: ',capa2017.shape)\n",
    "print(capa2017.columns)\n",
    "print(capa2017.dtypes)\n",
    "print('---------------------------')\n",
    "print()\n",
    "print('Market Price')\n",
    "print('Shape: ',price2017.shape)\n",
    "print(price2017.columns)\n",
    "print(price2017.dtypes)\n",
    "\n"
   ]
  },
  {
   "cell_type": "markdown",
   "metadata": {},
   "source": [
    "# Preparation of 'Load' DataFrame"
   ]
  },
  {
   "cell_type": "markdown",
   "metadata": {},
   "source": [
    "The load2017 DataFrame represents data regarding the actual electrical load ('actual') for every 15 mins of the year 2017 and the prediction for the same 15 mins of the nest day ('day-ahead').  "
   ]
  },
  {
   "cell_type": "code",
   "execution_count": 3,
   "metadata": {},
   "outputs": [
    {
     "data": {
      "text/html": [
       "<div>\n",
       "<style>\n",
       "    .dataframe thead tr:only-child th {\n",
       "        text-align: right;\n",
       "    }\n",
       "\n",
       "    .dataframe thead th {\n",
       "        text-align: left;\n",
       "    }\n",
       "\n",
       "    .dataframe tbody tr th {\n",
       "        vertical-align: top;\n",
       "    }\n",
       "</style>\n",
       "<table border=\"1\" class=\"dataframe\">\n",
       "  <thead>\n",
       "    <tr style=\"text-align: right;\">\n",
       "      <th></th>\n",
       "      <th>time</th>\n",
       "      <th>day-ahead</th>\n",
       "      <th>actual</th>\n",
       "    </tr>\n",
       "  </thead>\n",
       "  <tbody>\n",
       "    <tr>\n",
       "      <th>0</th>\n",
       "      <td>01.01.2017 00:00 - 01.01.2017 00:15</td>\n",
       "      <td>47220</td>\n",
       "      <td>51824</td>\n",
       "    </tr>\n",
       "    <tr>\n",
       "      <th>1</th>\n",
       "      <td>01.01.2017 00:15 - 01.01.2017 00:30</td>\n",
       "      <td>46684</td>\n",
       "      <td>51737</td>\n",
       "    </tr>\n",
       "    <tr>\n",
       "      <th>2</th>\n",
       "      <td>01.01.2017 00:30 - 01.01.2017 00:45</td>\n",
       "      <td>45836</td>\n",
       "      <td>51527</td>\n",
       "    </tr>\n",
       "    <tr>\n",
       "      <th>3</th>\n",
       "      <td>01.01.2017 00:45 - 01.01.2017 01:00</td>\n",
       "      <td>45428</td>\n",
       "      <td>51106</td>\n",
       "    </tr>\n",
       "    <tr>\n",
       "      <th>4</th>\n",
       "      <td>01.01.2017 01:00 - 01.01.2017 01:15</td>\n",
       "      <td>44765</td>\n",
       "      <td>50529</td>\n",
       "    </tr>\n",
       "  </tbody>\n",
       "</table>\n",
       "</div>"
      ],
      "text/plain": [
       "                                  time day-ahead actual\n",
       "0  01.01.2017 00:00 - 01.01.2017 00:15     47220  51824\n",
       "1  01.01.2017 00:15 - 01.01.2017 00:30     46684  51737\n",
       "2  01.01.2017 00:30 - 01.01.2017 00:45     45836  51527\n",
       "3  01.01.2017 00:45 - 01.01.2017 01:00     45428  51106\n",
       "4  01.01.2017 01:00 - 01.01.2017 01:15     44765  50529"
      ]
     },
     "execution_count": 3,
     "metadata": {},
     "output_type": "execute_result"
    }
   ],
   "source": [
    "#rename columns\n",
    "load2017.columns = ['time', 'day-ahead', 'actual'] \n",
    "\n",
    "#print head of load\n",
    "load2017.head()"
   ]
  },
  {
   "cell_type": "code",
   "execution_count": 4,
   "metadata": {},
   "outputs": [
    {
     "data": {
      "text/plain": [
       "time           0\n",
       "day-ahead    805\n",
       "actual        25\n",
       "dtype: int64"
      ]
     },
     "execution_count": 4,
     "metadata": {},
     "output_type": "execute_result"
    }
   ],
   "source": [
    "#check how many values are missing\n",
    "\n",
    "load2017.isnull().sum() "
   ]
  },
  {
   "cell_type": "code",
   "execution_count": 5,
   "metadata": {
    "collapsed": true
   },
   "outputs": [],
   "source": [
    "#clean the data from NaN values\n",
    "\n",
    "load2017 = load2017.dropna() "
   ]
  },
  {
   "cell_type": "code",
   "execution_count": 6,
   "metadata": {
    "collapsed": true
   },
   "outputs": [],
   "source": [
    "#clean the data from irrelevant values\n",
    "\n",
    "load2017['actual'] = load2017['actual'][load2017['actual']!='-'] "
   ]
  },
  {
   "cell_type": "code",
   "execution_count": 7,
   "metadata": {},
   "outputs": [
    {
     "data": {
      "text/plain": [
       "time            0\n",
       "day-ahead       0\n",
       "actual       1691\n",
       "dtype: int64"
      ]
     },
     "execution_count": 7,
     "metadata": {},
     "output_type": "execute_result"
    }
   ],
   "source": [
    "load2017.isnull().sum()"
   ]
  },
  {
   "cell_type": "code",
   "execution_count": 8,
   "metadata": {
    "collapsed": true
   },
   "outputs": [],
   "source": [
    "load2017 = load2017.dropna()"
   ]
  },
  {
   "cell_type": "code",
   "execution_count": 9,
   "metadata": {},
   "outputs": [
    {
     "data": {
      "text/plain": [
       "0"
      ]
     },
     "execution_count": 9,
     "metadata": {},
     "output_type": "execute_result"
    }
   ],
   "source": [
    "load2017['actual'].isnull().sum()"
   ]
  },
  {
   "cell_type": "code",
   "execution_count": 10,
   "metadata": {
    "collapsed": true
   },
   "outputs": [],
   "source": [
    "load2017['actual'] = load2017['actual'].astype(int)"
   ]
  },
  {
   "cell_type": "code",
   "execution_count": 11,
   "metadata": {},
   "outputs": [
    {
     "data": {
      "text/plain": [
       "0   2017-01-01\n",
       "1   2017-01-01\n",
       "2   2017-01-01\n",
       "3   2017-01-01\n",
       "4   2017-01-01\n",
       "Name: date, dtype: datetime64[ns]"
      ]
     },
     "execution_count": 11,
     "metadata": {},
     "output_type": "execute_result"
    }
   ],
   "source": [
    "load2017['date'] = load2017['time'].str.slice(0,10)\n",
    "load2017['date'] = pd.to_datetime(load2017['date'])\n",
    "load2017['date'].head()"
   ]
  },
  {
   "cell_type": "code",
   "execution_count": 12,
   "metadata": {},
   "outputs": [
    {
     "data": {
      "text/plain": [
       "0    00:00:00\n",
       "1    00:15:00\n",
       "2    00:30:00\n",
       "3    00:45:00\n",
       "4    01:00:00\n",
       "Name: hour, dtype: object"
      ]
     },
     "execution_count": 12,
     "metadata": {},
     "output_type": "execute_result"
    }
   ],
   "source": [
    "load2017['hour'] = load2017['time'].str.slice(11,16)\n",
    "load2017['hour'] = pd.to_datetime(load2017['hour'], format = '%H:%M').dt.time\n",
    "load2017['hour'].head()"
   ]
  },
  {
   "cell_type": "code",
   "execution_count": 13,
   "metadata": {},
   "outputs": [
    {
     "data": {
      "text/plain": [
       "0   2017-01-01 00:00:00\n",
       "1   2017-01-01 00:15:00\n",
       "2   2017-01-01 00:30:00\n",
       "3   2017-01-01 00:45:00\n",
       "4   2017-01-01 01:00:00\n",
       "Name: timestamp, dtype: datetime64[ns]"
      ]
     },
     "execution_count": 13,
     "metadata": {},
     "output_type": "execute_result"
    }
   ],
   "source": [
    "load2017['timestamp'] = load2017.apply(lambda r : pd.datetime.combine(r['date'],r['hour']),1)\n",
    "load2017['timestamp'].head()"
   ]
  },
  {
   "cell_type": "code",
   "execution_count": 14,
   "metadata": {},
   "outputs": [
    {
     "data": {
      "text/html": [
       "<div>\n",
       "<style>\n",
       "    .dataframe thead tr:only-child th {\n",
       "        text-align: right;\n",
       "    }\n",
       "\n",
       "    .dataframe thead th {\n",
       "        text-align: left;\n",
       "    }\n",
       "\n",
       "    .dataframe tbody tr th {\n",
       "        vertical-align: top;\n",
       "    }\n",
       "</style>\n",
       "<table border=\"1\" class=\"dataframe\">\n",
       "  <thead>\n",
       "    <tr style=\"text-align: right;\">\n",
       "      <th></th>\n",
       "      <th>time</th>\n",
       "      <th>day-ahead</th>\n",
       "      <th>actual</th>\n",
       "      <th>date</th>\n",
       "      <th>hour</th>\n",
       "      <th>timestamp</th>\n",
       "    </tr>\n",
       "  </thead>\n",
       "  <tbody>\n",
       "    <tr>\n",
       "      <th>0</th>\n",
       "      <td>01.01.2017 00:00 - 01.01.2017 00:15</td>\n",
       "      <td>47220</td>\n",
       "      <td>51824</td>\n",
       "      <td>2017-01-01</td>\n",
       "      <td>00:00:00</td>\n",
       "      <td>2017-01-01 00:00:00</td>\n",
       "    </tr>\n",
       "    <tr>\n",
       "      <th>4</th>\n",
       "      <td>01.01.2017 01:00 - 01.01.2017 01:15</td>\n",
       "      <td>44765</td>\n",
       "      <td>50529</td>\n",
       "      <td>2017-01-01</td>\n",
       "      <td>01:00:00</td>\n",
       "      <td>2017-01-01 01:00:00</td>\n",
       "    </tr>\n",
       "    <tr>\n",
       "      <th>8</th>\n",
       "      <td>01.01.2017 02:00 - 01.01.2017 02:15</td>\n",
       "      <td>43400</td>\n",
       "      <td>49303</td>\n",
       "      <td>2017-01-01</td>\n",
       "      <td>02:00:00</td>\n",
       "      <td>2017-01-01 02:00:00</td>\n",
       "    </tr>\n",
       "    <tr>\n",
       "      <th>12</th>\n",
       "      <td>01.01.2017 03:00 - 01.01.2017 03:15</td>\n",
       "      <td>42713</td>\n",
       "      <td>47190</td>\n",
       "      <td>2017-01-01</td>\n",
       "      <td>03:00:00</td>\n",
       "      <td>2017-01-01 03:00:00</td>\n",
       "    </tr>\n",
       "    <tr>\n",
       "      <th>16</th>\n",
       "      <td>01.01.2017 04:00 - 01.01.2017 04:15</td>\n",
       "      <td>42946</td>\n",
       "      <td>46403</td>\n",
       "      <td>2017-01-01</td>\n",
       "      <td>04:00:00</td>\n",
       "      <td>2017-01-01 04:00:00</td>\n",
       "    </tr>\n",
       "  </tbody>\n",
       "</table>\n",
       "</div>"
      ],
      "text/plain": [
       "                                   time day-ahead  actual       date  \\\n",
       "0   01.01.2017 00:00 - 01.01.2017 00:15     47220   51824 2017-01-01   \n",
       "4   01.01.2017 01:00 - 01.01.2017 01:15     44765   50529 2017-01-01   \n",
       "8   01.01.2017 02:00 - 01.01.2017 02:15     43400   49303 2017-01-01   \n",
       "12  01.01.2017 03:00 - 01.01.2017 03:15     42713   47190 2017-01-01   \n",
       "16  01.01.2017 04:00 - 01.01.2017 04:15     42946   46403 2017-01-01   \n",
       "\n",
       "        hour           timestamp  \n",
       "0   00:00:00 2017-01-01 00:00:00  \n",
       "4   01:00:00 2017-01-01 01:00:00  \n",
       "8   02:00:00 2017-01-01 02:00:00  \n",
       "12  03:00:00 2017-01-01 03:00:00  \n",
       "16  04:00:00 2017-01-01 04:00:00  "
      ]
     },
     "execution_count": 14,
     "metadata": {},
     "output_type": "execute_result"
    }
   ],
   "source": [
    "load2017inh= load2017[load2017.index % 4 == 0]\n",
    "load2017inh.head()"
   ]
  },
  {
   "cell_type": "code",
   "execution_count": 15,
   "metadata": {},
   "outputs": [
    {
     "data": {
      "text/plain": [
       "<matplotlib.text.Text at 0x16938cacc18>"
      ]
     },
     "execution_count": 15,
     "metadata": {},
     "output_type": "execute_result"
    },
    {
     "data": {
      "image/png": "[encoded data removed]",
      "text/plain": [
       "<matplotlib.figure.Figure at 0x1693a221550>"
      ]
     },
     "metadata": {},
     "output_type": "display_data"
    }
   ],
   "source": [
    "#plot the change of Electrical Load 2017 throughour the year\n",
    "\n",
    "fig, ax = plt.subplots() \n",
    "load2017.plot(ax=ax, title=\"Actual load 2017 (DE-AT-LUX)\", x='timestamp', y='actual', lw=0.7)\n",
    "ax.set_ylabel(\"Actual Load\")\n",
    "ax.set_xlabel(\"Date\")"
   ]
  },
  {
   "cell_type": "code",
   "execution_count": 16,
   "metadata": {},
   "outputs": [
    {
     "data": {
      "text/plain": [
       "<matplotlib.text.Text at 0x16939df0ef0>"
      ]
     },
     "execution_count": 16,
     "metadata": {},
     "output_type": "execute_result"
    },
    {
     "data": {
      "image/png": "[encoded data removed]",
      "text/plain": [
       "<matplotlib.figure.Figure at 0x1693adfc1d0>"
      ]
     },
     "metadata": {},
     "output_type": "display_data"
    }
   ],
   "source": [
    "fig, ax = plt.subplots() \n",
    "load2017.iloc[:96].plot(ax=ax, title=\"Actual load 2017 (DE-AT-LUX)\", x='timestamp', y='actual', lw=0.7)\n",
    "ax.set_ylabel(\"Actual Load\")\n",
    "ax.set_xlabel(\"Time\")\n",
    "\n",
    "#problem: graph looks starnge when you plot more than 96 ticks"
   ]
  },
  {
   "cell_type": "markdown",
   "metadata": {},
   "source": [
    "# Preparation of 'Energy Type Generation' DataFrame"
   ]
  },
  {
   "cell_type": "markdown",
   "metadata": {},
   "source": [
    "The type2017 DataFrame reflects the data about energy generated every 15 mins of the year 2017 presented by each energy source. Since we are interested in energy sources affected by the weather conditions, from this data we will mainly be focused on Solar and Wind energy. "
   ]
  },
  {
   "cell_type": "code",
   "execution_count": 17,
   "metadata": {},
   "outputs": [
    {
     "data": {
      "text/html": [
       "<div>\n",
       "<style>\n",
       "    .dataframe thead tr:only-child th {\n",
       "        text-align: right;\n",
       "    }\n",
       "\n",
       "    .dataframe thead th {\n",
       "        text-align: left;\n",
       "    }\n",
       "\n",
       "    .dataframe tbody tr th {\n",
       "        vertical-align: top;\n",
       "    }\n",
       "</style>\n",
       "<table border=\"1\" class=\"dataframe\">\n",
       "  <thead>\n",
       "    <tr style=\"text-align: right;\">\n",
       "      <th></th>\n",
       "      <th>Area</th>\n",
       "      <th>MTU</th>\n",
       "      <th>Biomass  - Actual Aggregated [MW]</th>\n",
       "      <th>Fossil Brown coal/Lignite  - Actual Aggregated [MW]</th>\n",
       "      <th>Fossil Coal-derived gas  - Actual Aggregated [MW]</th>\n",
       "      <th>Fossil Gas  - Actual Aggregated [MW]</th>\n",
       "      <th>Fossil Hard coal  - Actual Aggregated [MW]</th>\n",
       "      <th>Fossil Oil  - Actual Aggregated [MW]</th>\n",
       "      <th>Fossil Oil shale  - Actual Aggregated [MW]</th>\n",
       "      <th>Fossil Peat  - Actual Aggregated [MW]</th>\n",
       "      <th>...</th>\n",
       "      <th>Hydro Run-of-river and poundage  - Actual Aggregated [MW]</th>\n",
       "      <th>Hydro Water Reservoir  - Actual Aggregated [MW]</th>\n",
       "      <th>Marine  - Actual Aggregated [MW]</th>\n",
       "      <th>Nuclear  - Actual Aggregated [MW]</th>\n",
       "      <th>Other  - Actual Aggregated [MW]</th>\n",
       "      <th>Other renewable  - Actual Aggregated [MW]</th>\n",
       "      <th>Solar  - Actual Aggregated [MW]</th>\n",
       "      <th>Waste  - Actual Aggregated [MW]</th>\n",
       "      <th>Wind Offshore  - Actual Aggregated [MW]</th>\n",
       "      <th>Wind Onshore  - Actual Aggregated [MW]</th>\n",
       "    </tr>\n",
       "  </thead>\n",
       "  <tbody>\n",
       "    <tr>\n",
       "      <th>0</th>\n",
       "      <td>BZN|DE-AT-LU</td>\n",
       "      <td>01.01.2017 00:00 - 01.01.2017 00:15 (CET)</td>\n",
       "      <td>5024</td>\n",
       "      <td>13270</td>\n",
       "      <td>605</td>\n",
       "      <td>3628</td>\n",
       "      <td>4598</td>\n",
       "      <td>196</td>\n",
       "      <td>n/e</td>\n",
       "      <td>n/e</td>\n",
       "      <td>...</td>\n",
       "      <td>2592</td>\n",
       "      <td>532</td>\n",
       "      <td>n/e</td>\n",
       "      <td>6456</td>\n",
       "      <td>3840</td>\n",
       "      <td>100</td>\n",
       "      <td>0</td>\n",
       "      <td>433</td>\n",
       "      <td>3300</td>\n",
       "      <td>12140</td>\n",
       "    </tr>\n",
       "    <tr>\n",
       "      <th>1</th>\n",
       "      <td>BZN|DE-AT-LU</td>\n",
       "      <td>01.01.2017 00:15 - 01.01.2017 00:30 (CET)</td>\n",
       "      <td>5015</td>\n",
       "      <td>13344</td>\n",
       "      <td>596</td>\n",
       "      <td>3398</td>\n",
       "      <td>4621</td>\n",
       "      <td>195</td>\n",
       "      <td>n/e</td>\n",
       "      <td>n/e</td>\n",
       "      <td>...</td>\n",
       "      <td>2624</td>\n",
       "      <td>633</td>\n",
       "      <td>n/e</td>\n",
       "      <td>6463</td>\n",
       "      <td>3829</td>\n",
       "      <td>100</td>\n",
       "      <td>0</td>\n",
       "      <td>433</td>\n",
       "      <td>3304</td>\n",
       "      <td>12211</td>\n",
       "    </tr>\n",
       "    <tr>\n",
       "      <th>2</th>\n",
       "      <td>BZN|DE-AT-LU</td>\n",
       "      <td>01.01.2017 00:30 - 01.01.2017 00:45 (CET)</td>\n",
       "      <td>5013</td>\n",
       "      <td>13285</td>\n",
       "      <td>595</td>\n",
       "      <td>3241</td>\n",
       "      <td>4755</td>\n",
       "      <td>196</td>\n",
       "      <td>n/e</td>\n",
       "      <td>n/e</td>\n",
       "      <td>...</td>\n",
       "      <td>2630</td>\n",
       "      <td>657</td>\n",
       "      <td>n/e</td>\n",
       "      <td>6457</td>\n",
       "      <td>3778</td>\n",
       "      <td>100</td>\n",
       "      <td>0</td>\n",
       "      <td>432</td>\n",
       "      <td>3303</td>\n",
       "      <td>12313</td>\n",
       "    </tr>\n",
       "    <tr>\n",
       "      <th>3</th>\n",
       "      <td>BZN|DE-AT-LU</td>\n",
       "      <td>01.01.2017 00:45 - 01.01.2017 01:00 (CET)</td>\n",
       "      <td>5012</td>\n",
       "      <td>13293</td>\n",
       "      <td>587</td>\n",
       "      <td>3077</td>\n",
       "      <td>4807</td>\n",
       "      <td>195</td>\n",
       "      <td>n/e</td>\n",
       "      <td>n/e</td>\n",
       "      <td>...</td>\n",
       "      <td>2640</td>\n",
       "      <td>649</td>\n",
       "      <td>n/e</td>\n",
       "      <td>6454</td>\n",
       "      <td>3572</td>\n",
       "      <td>100</td>\n",
       "      <td>0</td>\n",
       "      <td>433</td>\n",
       "      <td>3306</td>\n",
       "      <td>12181</td>\n",
       "    </tr>\n",
       "    <tr>\n",
       "      <th>4</th>\n",
       "      <td>BZN|DE-AT-LU</td>\n",
       "      <td>01.01.2017 01:00 - 01.01.2017 01:15 (CET)</td>\n",
       "      <td>5011</td>\n",
       "      <td>13694</td>\n",
       "      <td>588</td>\n",
       "      <td>2798</td>\n",
       "      <td>5007</td>\n",
       "      <td>196</td>\n",
       "      <td>n/e</td>\n",
       "      <td>n/e</td>\n",
       "      <td>...</td>\n",
       "      <td>2657</td>\n",
       "      <td>601</td>\n",
       "      <td>n/e</td>\n",
       "      <td>6464</td>\n",
       "      <td>3989</td>\n",
       "      <td>100</td>\n",
       "      <td>0</td>\n",
       "      <td>433</td>\n",
       "      <td>3308</td>\n",
       "      <td>12156</td>\n",
       "    </tr>\n",
       "  </tbody>\n",
       "</table>\n",
       "<p>5 rows × 23 columns</p>\n",
       "</div>"
      ],
      "text/plain": [
       "           Area                                        MTU  \\\n",
       "0  BZN|DE-AT-LU  01.01.2017 00:00 - 01.01.2017 00:15 (CET)   \n",
       "1  BZN|DE-AT-LU  01.01.2017 00:15 - 01.01.2017 00:30 (CET)   \n",
       "2  BZN|DE-AT-LU  01.01.2017 00:30 - 01.01.2017 00:45 (CET)   \n",
       "3  BZN|DE-AT-LU  01.01.2017 00:45 - 01.01.2017 01:00 (CET)   \n",
       "4  BZN|DE-AT-LU  01.01.2017 01:00 - 01.01.2017 01:15 (CET)   \n",
       "\n",
       "  Biomass  - Actual Aggregated [MW]  \\\n",
       "0                              5024   \n",
       "1                              5015   \n",
       "2                              5013   \n",
       "3                              5012   \n",
       "4                              5011   \n",
       "\n",
       "  Fossil Brown coal/Lignite  - Actual Aggregated [MW]  \\\n",
       "0                                              13270    \n",
       "1                                              13344    \n",
       "2                                              13285    \n",
       "3                                              13293    \n",
       "4                                              13694    \n",
       "\n",
       "  Fossil Coal-derived gas  - Actual Aggregated [MW]  \\\n",
       "0                                               605   \n",
       "1                                               596   \n",
       "2                                               595   \n",
       "3                                               587   \n",
       "4                                               588   \n",
       "\n",
       "  Fossil Gas  - Actual Aggregated [MW]  \\\n",
       "0                                 3628   \n",
       "1                                 3398   \n",
       "2                                 3241   \n",
       "3                                 3077   \n",
       "4                                 2798   \n",
       "\n",
       "  Fossil Hard coal  - Actual Aggregated [MW]  \\\n",
       "0                                       4598   \n",
       "1                                       4621   \n",
       "2                                       4755   \n",
       "3                                       4807   \n",
       "4                                       5007   \n",
       "\n",
       "  Fossil Oil  - Actual Aggregated [MW]  \\\n",
       "0                                  196   \n",
       "1                                  195   \n",
       "2                                  196   \n",
       "3                                  195   \n",
       "4                                  196   \n",
       "\n",
       "  Fossil Oil shale  - Actual Aggregated [MW]  \\\n",
       "0                                        n/e   \n",
       "1                                        n/e   \n",
       "2                                        n/e   \n",
       "3                                        n/e   \n",
       "4                                        n/e   \n",
       "\n",
       "  Fossil Peat  - Actual Aggregated [MW]  \\\n",
       "0                                   n/e   \n",
       "1                                   n/e   \n",
       "2                                   n/e   \n",
       "3                                   n/e   \n",
       "4                                   n/e   \n",
       "\n",
       "                   ...                    \\\n",
       "0                  ...                     \n",
       "1                  ...                     \n",
       "2                  ...                     \n",
       "3                  ...                     \n",
       "4                  ...                     \n",
       "\n",
       "  Hydro Run-of-river and poundage  - Actual Aggregated [MW]  \\\n",
       "0                                               2592          \n",
       "1                                               2624          \n",
       "2                                               2630          \n",
       "3                                               2640          \n",
       "4                                               2657          \n",
       "\n",
       "  Hydro Water Reservoir  - Actual Aggregated [MW]  \\\n",
       "0                                             532   \n",
       "1                                             633   \n",
       "2                                             657   \n",
       "3                                             649   \n",
       "4                                             601   \n",
       "\n",
       "  Marine  - Actual Aggregated [MW] Nuclear  - Actual Aggregated [MW]  \\\n",
       "0                              n/e                              6456   \n",
       "1                              n/e                              6463   \n",
       "2                              n/e                              6457   \n",
       "3                              n/e                              6454   \n",
       "4                              n/e                              6464   \n",
       "\n",
       "  Other  - Actual Aggregated [MW] Other renewable  - Actual Aggregated [MW]  \\\n",
       "0                            3840                                       100   \n",
       "1                            3829                                       100   \n",
       "2                            3778                                       100   \n",
       "3                            3572                                       100   \n",
       "4                            3989                                       100   \n",
       "\n",
       "  Solar  - Actual Aggregated [MW] Waste  - Actual Aggregated [MW]  \\\n",
       "0                               0                             433   \n",
       "1                               0                             433   \n",
       "2                               0                             432   \n",
       "3                               0                             433   \n",
       "4                               0                             433   \n",
       "\n",
       "  Wind Offshore  - Actual Aggregated [MW]  \\\n",
       "0                                    3300   \n",
       "1                                    3304   \n",
       "2                                    3303   \n",
       "3                                    3306   \n",
       "4                                    3308   \n",
       "\n",
       "  Wind Onshore  - Actual Aggregated [MW]  \n",
       "0                                  12140  \n",
       "1                                  12211  \n",
       "2                                  12313  \n",
       "3                                  12181  \n",
       "4                                  12156  \n",
       "\n",
       "[5 rows x 23 columns]"
      ]
     },
     "execution_count": 17,
     "metadata": {},
     "output_type": "execute_result"
    }
   ],
   "source": [
    "#print head of type\n",
    "\n",
    "type2017.head()"
   ]
  },
  {
   "cell_type": "code",
   "execution_count": 18,
   "metadata": {},
   "outputs": [
    {
     "data": {
      "text/plain": [
       "Area                                                         0\n",
       "MTU                                                          0\n",
       "Biomass  - Actual Aggregated [MW]                            5\n",
       "Fossil Brown coal/Lignite  - Actual Aggregated [MW]          4\n",
       "Fossil Coal-derived gas  - Actual Aggregated [MW]            4\n",
       "Fossil Gas  - Actual Aggregated [MW]                         7\n",
       "Fossil Hard coal  - Actual Aggregated [MW]                   6\n",
       "Fossil Oil  - Actual Aggregated [MW]                         6\n",
       "Fossil Oil shale  - Actual Aggregated [MW]                   4\n",
       "Fossil Peat  - Actual Aggregated [MW]                        4\n",
       "Geothermal  - Actual Aggregated [MW]                         4\n",
       "Hydro Pumped Storage  - Actual Aggregated [MW]               6\n",
       "Hydro Pumped Storage  - Actual Consumption [MW]              6\n",
       "Hydro Run-of-river and poundage  - Actual Aggregated [MW]    6\n",
       "Hydro Water Reservoir  - Actual Aggregated [MW]              4\n",
       "Marine  - Actual Aggregated [MW]                             4\n",
       "Nuclear  - Actual Aggregated [MW]                            6\n",
       "Other  - Actual Aggregated [MW]                              4\n",
       "Other renewable  - Actual Aggregated [MW]                    6\n",
       "Solar  - Actual Aggregated [MW]                              5\n",
       "Waste  - Actual Aggregated [MW]                              4\n",
       "Wind Offshore  - Actual Aggregated [MW]                      4\n",
       "Wind Onshore  - Actual Aggregated [MW]                       4\n",
       "dtype: int64"
      ]
     },
     "execution_count": 18,
     "metadata": {},
     "output_type": "execute_result"
    }
   ],
   "source": [
    "#check how many values are missing from the data\n",
    "\n",
    "type2017.isnull().sum() "
   ]
  },
  {
   "cell_type": "code",
   "execution_count": 19,
   "metadata": {
    "collapsed": true
   },
   "outputs": [],
   "source": [
    "#clean the data\n",
    "\n",
    "type2017 = type2017.dropna() "
   ]
  },
  {
   "cell_type": "code",
   "execution_count": 20,
   "metadata": {},
   "outputs": [
    {
     "data": {
      "text/plain": [
       "Area                                                         0\n",
       "MTU                                                          0\n",
       "Biomass  - Actual Aggregated [MW]                            0\n",
       "Fossil Brown coal/Lignite  - Actual Aggregated [MW]          0\n",
       "Fossil Coal-derived gas  - Actual Aggregated [MW]            0\n",
       "Fossil Gas  - Actual Aggregated [MW]                         0\n",
       "Fossil Hard coal  - Actual Aggregated [MW]                   0\n",
       "Fossil Oil  - Actual Aggregated [MW]                         0\n",
       "Fossil Oil shale  - Actual Aggregated [MW]                   0\n",
       "Fossil Peat  - Actual Aggregated [MW]                        0\n",
       "Geothermal  - Actual Aggregated [MW]                         0\n",
       "Hydro Pumped Storage  - Actual Aggregated [MW]               0\n",
       "Hydro Pumped Storage  - Actual Consumption [MW]              0\n",
       "Hydro Run-of-river and poundage  - Actual Aggregated [MW]    0\n",
       "Hydro Water Reservoir  - Actual Aggregated [MW]              0\n",
       "Marine  - Actual Aggregated [MW]                             0\n",
       "Nuclear  - Actual Aggregated [MW]                            0\n",
       "Other  - Actual Aggregated [MW]                              0\n",
       "Other renewable  - Actual Aggregated [MW]                    0\n",
       "Solar  - Actual Aggregated [MW]                              0\n",
       "Waste  - Actual Aggregated [MW]                              0\n",
       "Wind Offshore  - Actual Aggregated [MW]                      0\n",
       "Wind Onshore  - Actual Aggregated [MW]                       0\n",
       "dtype: int64"
      ]
     },
     "execution_count": 20,
     "metadata": {},
     "output_type": "execute_result"
    }
   ],
   "source": [
    "type2017.isnull().sum()"
   ]
  },
  {
   "cell_type": "code",
   "execution_count": 65,
   "metadata": {
    "collapsed": true
   },
   "outputs": [],
   "source": [
    "type2017_2 = type2017[type2017.index % 4 == 0] # we'll address to this later"
   ]
  },
  {
   "cell_type": "code",
   "execution_count": 66,
   "metadata": {
    "collapsed": true
   },
   "outputs": [],
   "source": [
    "#separate Sun and Wind Energy as main focus\n",
    "\n",
    "typesub2017 = type2017_2[['MTU','Solar  - Actual Aggregated [MW]', 'Wind Offshore  - Actual Aggregated [MW]', 'Wind Onshore  - Actual Aggregated [MW]']]"
   ]
  },
  {
   "cell_type": "code",
   "execution_count": 67,
   "metadata": {},
   "outputs": [
    {
     "data": {
      "text/html": [
       "<div>\n",
       "<style>\n",
       "    .dataframe thead tr:only-child th {\n",
       "        text-align: right;\n",
       "    }\n",
       "\n",
       "    .dataframe thead th {\n",
       "        text-align: left;\n",
       "    }\n",
       "\n",
       "    .dataframe tbody tr th {\n",
       "        vertical-align: top;\n",
       "    }\n",
       "</style>\n",
       "<table border=\"1\" class=\"dataframe\">\n",
       "  <thead>\n",
       "    <tr style=\"text-align: right;\">\n",
       "      <th></th>\n",
       "      <th>MTU</th>\n",
       "      <th>Solar</th>\n",
       "      <th>Wind Offshore</th>\n",
       "      <th>Wind Onshore</th>\n",
       "    </tr>\n",
       "  </thead>\n",
       "  <tbody>\n",
       "    <tr>\n",
       "      <th>0</th>\n",
       "      <td>01.01.2017 00:00 - 01.01.2017 00:15 (CET)</td>\n",
       "      <td>0</td>\n",
       "      <td>3300</td>\n",
       "      <td>12140</td>\n",
       "    </tr>\n",
       "    <tr>\n",
       "      <th>4</th>\n",
       "      <td>01.01.2017 01:00 - 01.01.2017 01:15 (CET)</td>\n",
       "      <td>0</td>\n",
       "      <td>3308</td>\n",
       "      <td>12156</td>\n",
       "    </tr>\n",
       "    <tr>\n",
       "      <th>8</th>\n",
       "      <td>01.01.2017 02:00 - 01.01.2017 02:15 (CET)</td>\n",
       "      <td>0</td>\n",
       "      <td>3300</td>\n",
       "      <td>12070</td>\n",
       "    </tr>\n",
       "    <tr>\n",
       "      <th>12</th>\n",
       "      <td>01.01.2017 03:00 - 01.01.2017 03:15 (CET)</td>\n",
       "      <td>0</td>\n",
       "      <td>3298</td>\n",
       "      <td>11539</td>\n",
       "    </tr>\n",
       "    <tr>\n",
       "      <th>16</th>\n",
       "      <td>01.01.2017 04:00 - 01.01.2017 04:15 (CET)</td>\n",
       "      <td>0</td>\n",
       "      <td>3302</td>\n",
       "      <td>11622</td>\n",
       "    </tr>\n",
       "  </tbody>\n",
       "</table>\n",
       "</div>"
      ],
      "text/plain": [
       "                                          MTU Solar Wind Offshore Wind Onshore\n",
       "0   01.01.2017 00:00 - 01.01.2017 00:15 (CET)     0          3300        12140\n",
       "4   01.01.2017 01:00 - 01.01.2017 01:15 (CET)     0          3308        12156\n",
       "8   01.01.2017 02:00 - 01.01.2017 02:15 (CET)     0          3300        12070\n",
       "12  01.01.2017 03:00 - 01.01.2017 03:15 (CET)     0          3298        11539\n",
       "16  01.01.2017 04:00 - 01.01.2017 04:15 (CET)     0          3302        11622"
      ]
     },
     "execution_count": 67,
     "metadata": {},
     "output_type": "execute_result"
    }
   ],
   "source": [
    "#rename the columns\n",
    "\n",
    "typesub2017 = typesub2017.rename(index=str, columns={\"Solar  - Actual Aggregated [MW]\": \"Solar\", \"Wind Offshore  - Actual Aggregated [MW]\": \"Wind Offshore\", \"Wind Onshore  - Actual Aggregated [MW]\" : \"Wind Onshore\" })\n",
    "typesub2017.head()"
   ]
  },
  {
   "cell_type": "code",
   "execution_count": 68,
   "metadata": {},
   "outputs": [
    {
     "data": {
      "text/plain": [
       "MTU              0\n",
       "Solar            0\n",
       "Wind Offshore    0\n",
       "Wind Onshore     0\n",
       "dtype: int64"
      ]
     },
     "execution_count": 68,
     "metadata": {},
     "output_type": "execute_result"
    }
   ],
   "source": [
    "typesub2017.isnull().sum()"
   ]
  },
  {
   "cell_type": "code",
   "execution_count": 69,
   "metadata": {
    "collapsed": true
   },
   "outputs": [],
   "source": [
    "#remove irrelevant values and clean the data from missing values\n",
    "\n",
    "typesub2017['Solar'] = typesub2017['Solar'][typesub2017['Solar']!='-']\n",
    "typesub2017['Wind Onshore'] = typesub2017['Wind Onshore'][typesub2017['Wind Onshore']!='-']\n",
    "typesub2017['Wind Offshore'] = typesub2017['Wind Offshore'][typesub2017['Wind Offshore']!='-']\n",
    "typesub2017['Solar'] = typesub2017['Solar'].dropna()"
   ]
  },
  {
   "cell_type": "code",
   "execution_count": 70,
   "metadata": {
    "collapsed": true
   },
   "outputs": [],
   "source": [
    "typesub2017 = typesub2017.dropna()"
   ]
  },
  {
   "cell_type": "code",
   "execution_count": 71,
   "metadata": {},
   "outputs": [
    {
     "data": {
      "text/plain": [
       "MTU              0\n",
       "Solar            0\n",
       "Wind Offshore    0\n",
       "Wind Onshore     0\n",
       "dtype: int64"
      ]
     },
     "execution_count": 71,
     "metadata": {},
     "output_type": "execute_result"
    }
   ],
   "source": [
    "typesub2017.isnull().sum()"
   ]
  },
  {
   "cell_type": "code",
   "execution_count": 72,
   "metadata": {
    "collapsed": true
   },
   "outputs": [],
   "source": [
    "#change the type of columns to integer\n",
    "\n",
    "typesub2017['Solar'] = typesub2017['Solar'].astype(int)\n",
    "typesub2017['Wind Offshore'] = typesub2017['Wind Offshore'].astype(int)\n",
    "typesub2017['Wind Onshore'] = typesub2017['Wind Onshore'].astype(int)"
   ]
  },
  {
   "cell_type": "code",
   "execution_count": 73,
   "metadata": {},
   "outputs": [
    {
     "data": {
      "text/plain": [
       "MTU              object\n",
       "Solar             int32\n",
       "Wind Offshore     int32\n",
       "Wind Onshore      int32\n",
       "dtype: object"
      ]
     },
     "execution_count": 73,
     "metadata": {},
     "output_type": "execute_result"
    }
   ],
   "source": [
    "typesub2017.dtypes"
   ]
  },
  {
   "cell_type": "code",
   "execution_count": 74,
   "metadata": {
    "scrolled": true
   },
   "outputs": [
    {
     "data": {
      "text/plain": [
       "36748103"
      ]
     },
     "execution_count": 74,
     "metadata": {},
     "output_type": "execute_result"
    }
   ],
   "source": [
    "#check that not all the values are 0\n",
    "\n",
    "typesub2017['Solar'].sum() "
   ]
  },
  {
   "cell_type": "code",
   "execution_count": 75,
   "metadata": {},
   "outputs": [
    {
     "data": {
      "text/plain": [
       "<matplotlib.text.Text at 0x1693b9f59e8>"
      ]
     },
     "execution_count": 75,
     "metadata": {},
     "output_type": "execute_result"
    },
    {
     "data": {
      "image/png": "[encoded data removed]",
      "text/plain": [
       "<matplotlib.figure.Figure at 0x1693ad2a390>"
      ]
     },
     "metadata": {},
     "output_type": "display_data"
    }
   ],
   "source": [
    "#plot the change of Solar Energy throughout the year 2017\n",
    "\n",
    "fig, ax = plt.subplots() \n",
    "typesub2017['Solar'].plot(ax=ax, title=\"Solar Energy Generation 2017 (DE-AT-LUX)\", lw=0.7)\n",
    "ax.set_ylabel(\"Solar Energy\")\n",
    "ax.set_xlabel(\"Time\")"
   ]
  },
  {
   "cell_type": "code",
   "execution_count": 76,
   "metadata": {},
   "outputs": [
    {
     "data": {
      "text/plain": [
       "<matplotlib.text.Text at 0x1693ba374e0>"
      ]
     },
     "execution_count": 76,
     "metadata": {},
     "output_type": "execute_result"
    },
    {
     "data": {
      "image/png": "[encoded data removed]",
      "text/plain": [
       "<matplotlib.figure.Figure at 0x1693bad6be0>"
      ]
     },
     "metadata": {},
     "output_type": "display_data"
    }
   ],
   "source": [
    "#plot the change of Offshore Wind Energy throughout the year 2017\n",
    "\n",
    "fig, ax = plt.subplots() \n",
    "typesub2017['Wind Offshore'].plot(ax=ax, title=\"Offshore Wind Energy Generation 2017 (DE-AT-LUX)\", lw=0.7)\n",
    "ax.set_ylabel(\"Offshore Wind Energy\")\n",
    "ax.set_xlabel(\"Time\")"
   ]
  },
  {
   "cell_type": "code",
   "execution_count": 77,
   "metadata": {},
   "outputs": [
    {
     "data": {
      "text/plain": [
       "<matplotlib.text.Text at 0x1693bac2438>"
      ]
     },
     "execution_count": 77,
     "metadata": {},
     "output_type": "execute_result"
    },
    {
     "data": {
      "image/png": "[encoded data removed]",
      "text/plain": [
       "<matplotlib.figure.Figure at 0x1693bb40e10>"
      ]
     },
     "metadata": {},
     "output_type": "display_data"
    }
   ],
   "source": [
    "#plot the change of Onshore Wind Energy throughout the year 2017\n",
    "\n",
    "fig, ax = plt.subplots() \n",
    "typesub2017['Wind Onshore'].plot(ax=ax, title=\"Onshore Wind Energy Generation 2017 (DE-AT-LUX)\", lw=0.7)\n",
    "ax.set_ylabel(\"Onshore Wind Energy\")\n",
    "ax.set_xlabel(\"Time\")"
   ]
  },
  {
   "cell_type": "markdown",
   "metadata": {},
   "source": [
    "# Preparation of 'Capacity' DataFrame"
   ]
  },
  {
   "cell_type": "markdown",
   "metadata": {},
   "source": [
    "The capa2017 DataFrame reflects data on Electrical Capacity by Energy Source - both currently available and added capacity throughout the year 2017. "
   ]
  },
  {
   "cell_type": "code",
   "execution_count": 33,
   "metadata": {},
   "outputs": [
    {
     "data": {
      "text/html": [
       "<div>\n",
       "<style>\n",
       "    .dataframe thead tr:only-child th {\n",
       "        text-align: right;\n",
       "    }\n",
       "\n",
       "    .dataframe thead th {\n",
       "        text-align: left;\n",
       "    }\n",
       "\n",
       "    .dataframe tbody tr th {\n",
       "        vertical-align: top;\n",
       "    }\n",
       "</style>\n",
       "<table border=\"1\" class=\"dataframe\">\n",
       "  <thead>\n",
       "    <tr style=\"text-align: right;\">\n",
       "      <th></th>\n",
       "      <th>Area / Date</th>\n",
       "      <th>Production Type</th>\n",
       "      <th>Code</th>\n",
       "      <th>Name</th>\n",
       "      <th>Intalled Capacity at the beginning of year [MW]</th>\n",
       "      <th>Current Installed Capacity [MW]</th>\n",
       "      <th>Location</th>\n",
       "      <th>Voltage Connection Level [V]</th>\n",
       "      <th>Commissioning Date</th>\n",
       "      <th>Decommissioning Date</th>\n",
       "    </tr>\n",
       "  </thead>\n",
       "  <tbody>\n",
       "    <tr>\n",
       "      <th>0</th>\n",
       "      <td>BZN|DE-AT-LU / 01.01.2017 00:00 - 01.01.2018 0...</td>\n",
       "      <td>Fossil Brown coal/Lignite</td>\n",
       "      <td>11WD7NEUR-B-KW-B</td>\n",
       "      <td>Neurath</td>\n",
       "      <td>4212.0</td>\n",
       "      <td>4212.0</td>\n",
       "      <td>intra_zonal</td>\n",
       "      <td>380</td>\n",
       "      <td>26.10.2009</td>\n",
       "      <td>NaN</td>\n",
       "    </tr>\n",
       "    <tr>\n",
       "      <th>1</th>\n",
       "      <td>BZN|DE-AT-LU / 01.01.2017 00:00 - 01.01.2018 0...</td>\n",
       "      <td>Fossil Brown coal/Lignite</td>\n",
       "      <td>11WD7NIED-B-KW-5</td>\n",
       "      <td>Niederaußem</td>\n",
       "      <td>3398.0</td>\n",
       "      <td>3398.0</td>\n",
       "      <td>intra_zonal</td>\n",
       "      <td>380</td>\n",
       "      <td>26.10.2009</td>\n",
       "      <td>NaN</td>\n",
       "    </tr>\n",
       "    <tr>\n",
       "      <th>2</th>\n",
       "      <td>BZN|DE-AT-LU / 01.01.2017 00:00 - 01.01.2018 0...</td>\n",
       "      <td>Fossil Brown coal/Lignite</td>\n",
       "      <td>11WD8JAEN1L----Z</td>\n",
       "      <td>KW Jänschwalde</td>\n",
       "      <td>2998.0</td>\n",
       "      <td>2998.0</td>\n",
       "      <td>intra_zonal</td>\n",
       "      <td>380</td>\n",
       "      <td>26.10.2009</td>\n",
       "      <td>NaN</td>\n",
       "    </tr>\n",
       "    <tr>\n",
       "      <th>3</th>\n",
       "      <td>BZN|DE-AT-LU / 01.01.2017 00:00 - 01.01.2018 0...</td>\n",
       "      <td>Nuclear</td>\n",
       "      <td>11WD7KRBG1K-KW-V</td>\n",
       "      <td>Gundremmingen</td>\n",
       "      <td>2572.0</td>\n",
       "      <td>2572.0</td>\n",
       "      <td>intra_zonal</td>\n",
       "      <td>380</td>\n",
       "      <td>26.10.2009</td>\n",
       "      <td>NaN</td>\n",
       "    </tr>\n",
       "    <tr>\n",
       "      <th>4</th>\n",
       "      <td>BZN|DE-AT-LU / 01.01.2017 00:00 - 01.01.2018 0...</td>\n",
       "      <td>Fossil Brown coal/Lignite</td>\n",
       "      <td>11WD8BOXB1L----J</td>\n",
       "      <td>KW Boxberg</td>\n",
       "      <td>2470.0</td>\n",
       "      <td>2470.0</td>\n",
       "      <td>intra_zonal</td>\n",
       "      <td>380</td>\n",
       "      <td>26.10.2009</td>\n",
       "      <td>NaN</td>\n",
       "    </tr>\n",
       "  </tbody>\n",
       "</table>\n",
       "</div>"
      ],
      "text/plain": [
       "                                         Area / Date  \\\n",
       "0  BZN|DE-AT-LU / 01.01.2017 00:00 - 01.01.2018 0...   \n",
       "1  BZN|DE-AT-LU / 01.01.2017 00:00 - 01.01.2018 0...   \n",
       "2  BZN|DE-AT-LU / 01.01.2017 00:00 - 01.01.2018 0...   \n",
       "3  BZN|DE-AT-LU / 01.01.2017 00:00 - 01.01.2018 0...   \n",
       "4  BZN|DE-AT-LU / 01.01.2017 00:00 - 01.01.2018 0...   \n",
       "\n",
       "             Production Type              Code            Name  \\\n",
       "0  Fossil Brown coal/Lignite  11WD7NEUR-B-KW-B         Neurath   \n",
       "1  Fossil Brown coal/Lignite  11WD7NIED-B-KW-5     Niederaußem   \n",
       "2  Fossil Brown coal/Lignite  11WD8JAEN1L----Z  KW Jänschwalde   \n",
       "3                    Nuclear  11WD7KRBG1K-KW-V   Gundremmingen   \n",
       "4  Fossil Brown coal/Lignite  11WD8BOXB1L----J      KW Boxberg   \n",
       "\n",
       "   Intalled Capacity at the beginning of year [MW]  \\\n",
       "0                                           4212.0   \n",
       "1                                           3398.0   \n",
       "2                                           2998.0   \n",
       "3                                           2572.0   \n",
       "4                                           2470.0   \n",
       "\n",
       "   Current Installed Capacity [MW]     Location  Voltage Connection Level [V]  \\\n",
       "0                           4212.0  intra_zonal                           380   \n",
       "1                           3398.0  intra_zonal                           380   \n",
       "2                           2998.0  intra_zonal                           380   \n",
       "3                           2572.0  intra_zonal                           380   \n",
       "4                           2470.0  intra_zonal                           380   \n",
       "\n",
       "  Commissioning Date Decommissioning Date  \n",
       "0         26.10.2009                  NaN  \n",
       "1         26.10.2009                  NaN  \n",
       "2         26.10.2009                  NaN  \n",
       "3         26.10.2009                  NaN  \n",
       "4         26.10.2009                  NaN  "
      ]
     },
     "execution_count": 33,
     "metadata": {},
     "output_type": "execute_result"
    }
   ],
   "source": [
    "#print head of capa\n",
    "capa2017.head()"
   ]
  },
  {
   "cell_type": "code",
   "execution_count": 34,
   "metadata": {},
   "outputs": [
    {
     "data": {
      "text/plain": [
       "array(['Fossil Brown coal/Lignite', 'Nuclear', 'Fossil Gas',\n",
       "       'Hydro Pumped Storage', 'Fossil Hard coal', 'Fossil Oil',\n",
       "       'Fossil Coal-derived gas', 'Hydro Water Reservoir', 'Wind Offshore',\n",
       "       'Hydro Run-of-river and poundage', 'Waste', 'Wind Onshore'], dtype=object)"
      ]
     },
     "execution_count": 34,
     "metadata": {},
     "output_type": "execute_result"
    }
   ],
   "source": [
    "capa2017['Production Type'].unique()"
   ]
  },
  {
   "cell_type": "code",
   "execution_count": 35,
   "metadata": {
    "collapsed": true
   },
   "outputs": [],
   "source": [
    "#exctact the change in capacity for Onshore and Offshore Wind Energy\n",
    "\n",
    "capa2017offshore = capa2017[capa2017['Production Type'] == 'Wind Offshore']\n",
    "capa2017onshore = capa2017[capa2017['Production Type'] == 'Wind Onshore']"
   ]
  },
  {
   "cell_type": "code",
   "execution_count": 36,
   "metadata": {},
   "outputs": [
    {
     "data": {
      "text/html": [
       "<div>\n",
       "<style>\n",
       "    .dataframe thead tr:only-child th {\n",
       "        text-align: right;\n",
       "    }\n",
       "\n",
       "    .dataframe thead th {\n",
       "        text-align: left;\n",
       "    }\n",
       "\n",
       "    .dataframe tbody tr th {\n",
       "        vertical-align: top;\n",
       "    }\n",
       "</style>\n",
       "<table border=\"1\" class=\"dataframe\">\n",
       "  <thead>\n",
       "    <tr style=\"text-align: right;\">\n",
       "      <th></th>\n",
       "      <th>Area / Date</th>\n",
       "      <th>Production Type</th>\n",
       "      <th>Code</th>\n",
       "      <th>Name</th>\n",
       "      <th>Intalled Capacity at the beginning of year [MW]</th>\n",
       "      <th>Current Installed Capacity [MW]</th>\n",
       "      <th>Location</th>\n",
       "      <th>Voltage Connection Level [V]</th>\n",
       "      <th>Commissioning Date</th>\n",
       "      <th>Decommissioning Date</th>\n",
       "    </tr>\n",
       "  </thead>\n",
       "  <tbody>\n",
       "    <tr>\n",
       "      <th>71</th>\n",
       "      <td>BZN|DE-AT-LU / 01.01.2017 00:00 - 01.01.2018 0...</td>\n",
       "      <td>Wind Offshore</td>\n",
       "      <td>11WD2OWVM000355S</td>\n",
       "      <td>Offshore-Windpark Veja Mate</td>\n",
       "      <td>402.0</td>\n",
       "      <td>402.0</td>\n",
       "      <td>Nordsee</td>\n",
       "      <td>155</td>\n",
       "      <td>01.01.2017</td>\n",
       "      <td>NaN</td>\n",
       "    </tr>\n",
       "    <tr>\n",
       "      <th>74</th>\n",
       "      <td>BZN|DE-AT-LU / 01.01.2017 00:00 - 01.01.2018 0...</td>\n",
       "      <td>Wind Offshore</td>\n",
       "      <td>11WD2OGTI000264J</td>\n",
       "      <td>Global Tech I</td>\n",
       "      <td>400.0</td>\n",
       "      <td>400.0</td>\n",
       "      <td>Nordsee AWZ</td>\n",
       "      <td>380</td>\n",
       "      <td>31.12.2014</td>\n",
       "      <td>NaN</td>\n",
       "    </tr>\n",
       "    <tr>\n",
       "      <th>75</th>\n",
       "      <td>BZN|DE-AT-LU / 01.01.2017 00:00 - 01.01.2018 0...</td>\n",
       "      <td>Wind Offshore</td>\n",
       "      <td>11WD2OBA1000349Z</td>\n",
       "      <td>Bard Offshore 1</td>\n",
       "      <td>NaN</td>\n",
       "      <td>400.0</td>\n",
       "      <td>intra_zonal</td>\n",
       "      <td>155</td>\n",
       "      <td>10.04.2017</td>\n",
       "      <td>NaN</td>\n",
       "    </tr>\n",
       "    <tr>\n",
       "      <th>87</th>\n",
       "      <td>BZN|DE-AT-LU / 01.01.2017 00:00 - 01.01.2018 0...</td>\n",
       "      <td>Wind Offshore</td>\n",
       "      <td>11WD8BALT3W---PS</td>\n",
       "      <td>Windpark Baltic 1 and 2</td>\n",
       "      <td>336.0</td>\n",
       "      <td>336.0</td>\n",
       "      <td>intra_zonal</td>\n",
       "      <td>380</td>\n",
       "      <td>04.08.2015</td>\n",
       "      <td>NaN</td>\n",
       "    </tr>\n",
       "    <tr>\n",
       "      <th>89</th>\n",
       "      <td>BZN|DE-AT-LU / 01.01.2017 00:00 - 01.01.2018 0...</td>\n",
       "      <td>Wind Offshore</td>\n",
       "      <td>11W0-0000-0029-P</td>\n",
       "      <td>Windpark Nordsee One</td>\n",
       "      <td>NaN</td>\n",
       "      <td>332.0</td>\n",
       "      <td>intra_zonal</td>\n",
       "      <td>155</td>\n",
       "      <td>13.06.2017</td>\n",
       "      <td>NaN</td>\n",
       "    </tr>\n",
       "  </tbody>\n",
       "</table>\n",
       "</div>"
      ],
      "text/plain": [
       "                                          Area / Date Production Type  \\\n",
       "71  BZN|DE-AT-LU / 01.01.2017 00:00 - 01.01.2018 0...   Wind Offshore   \n",
       "74  BZN|DE-AT-LU / 01.01.2017 00:00 - 01.01.2018 0...   Wind Offshore   \n",
       "75  BZN|DE-AT-LU / 01.01.2017 00:00 - 01.01.2018 0...   Wind Offshore   \n",
       "87  BZN|DE-AT-LU / 01.01.2017 00:00 - 01.01.2018 0...   Wind Offshore   \n",
       "89  BZN|DE-AT-LU / 01.01.2017 00:00 - 01.01.2018 0...   Wind Offshore   \n",
       "\n",
       "                Code                         Name  \\\n",
       "71  11WD2OWVM000355S  Offshore-Windpark Veja Mate   \n",
       "74  11WD2OGTI000264J                Global Tech I   \n",
       "75  11WD2OBA1000349Z              Bard Offshore 1   \n",
       "87  11WD8BALT3W---PS      Windpark Baltic 1 and 2   \n",
       "89  11W0-0000-0029-P         Windpark Nordsee One   \n",
       "\n",
       "    Intalled Capacity at the beginning of year [MW]  \\\n",
       "71                                            402.0   \n",
       "74                                            400.0   \n",
       "75                                              NaN   \n",
       "87                                            336.0   \n",
       "89                                              NaN   \n",
       "\n",
       "    Current Installed Capacity [MW]     Location  \\\n",
       "71                            402.0      Nordsee   \n",
       "74                            400.0  Nordsee AWZ   \n",
       "75                            400.0  intra_zonal   \n",
       "87                            336.0  intra_zonal   \n",
       "89                            332.0  intra_zonal   \n",
       "\n",
       "    Voltage Connection Level [V] Commissioning Date Decommissioning Date  \n",
       "71                           155         01.01.2017                  NaN  \n",
       "74                           380         31.12.2014                  NaN  \n",
       "75                           155         10.04.2017                  NaN  \n",
       "87                           380         04.08.2015                  NaN  \n",
       "89                           155         13.06.2017                  NaN  "
      ]
     },
     "execution_count": 36,
     "metadata": {},
     "output_type": "execute_result"
    }
   ],
   "source": [
    "capa2017offshore.head()"
   ]
  },
  {
   "cell_type": "code",
   "execution_count": 37,
   "metadata": {},
   "outputs": [
    {
     "data": {
      "text/html": [
       "<div>\n",
       "<style>\n",
       "    .dataframe thead tr:only-child th {\n",
       "        text-align: right;\n",
       "    }\n",
       "\n",
       "    .dataframe thead th {\n",
       "        text-align: left;\n",
       "    }\n",
       "\n",
       "    .dataframe tbody tr th {\n",
       "        vertical-align: top;\n",
       "    }\n",
       "</style>\n",
       "<table border=\"1\" class=\"dataframe\">\n",
       "  <thead>\n",
       "    <tr style=\"text-align: right;\">\n",
       "      <th></th>\n",
       "      <th>Area / Date</th>\n",
       "      <th>Production Type</th>\n",
       "      <th>Code</th>\n",
       "      <th>Name</th>\n",
       "      <th>Intalled Capacity at the beginning of year [MW]</th>\n",
       "      <th>Current Installed Capacity [MW]</th>\n",
       "      <th>Location</th>\n",
       "      <th>Voltage Connection Level [V]</th>\n",
       "      <th>Commissioning Date</th>\n",
       "      <th>Decommissioning Date</th>\n",
       "    </tr>\n",
       "  </thead>\n",
       "  <tbody>\n",
       "    <tr>\n",
       "      <th>147</th>\n",
       "      <td>BZN|DE-AT-LU / 01.01.2017 00:00 - 01.01.2018 0...</td>\n",
       "      <td>Wind Onshore</td>\n",
       "      <td>11WD8HAVLXW---PM</td>\n",
       "      <td>Windpark Havelland</td>\n",
       "      <td>147.0</td>\n",
       "      <td>147.0</td>\n",
       "      <td>intra_zonal</td>\n",
       "      <td>380</td>\n",
       "      <td>10.12.2015</td>\n",
       "      <td>NaN</td>\n",
       "    </tr>\n",
       "  </tbody>\n",
       "</table>\n",
       "</div>"
      ],
      "text/plain": [
       "                                           Area / Date Production Type  \\\n",
       "147  BZN|DE-AT-LU / 01.01.2017 00:00 - 01.01.2018 0...    Wind Onshore   \n",
       "\n",
       "                 Code                Name  \\\n",
       "147  11WD8HAVLXW---PM  Windpark Havelland   \n",
       "\n",
       "     Intalled Capacity at the beginning of year [MW]  \\\n",
       "147                                            147.0   \n",
       "\n",
       "     Current Installed Capacity [MW]     Location  \\\n",
       "147                            147.0  intra_zonal   \n",
       "\n",
       "     Voltage Connection Level [V] Commissioning Date Decommissioning Date  \n",
       "147                           380         10.12.2015                  NaN  "
      ]
     },
     "execution_count": 37,
     "metadata": {},
     "output_type": "execute_result"
    }
   ],
   "source": [
    "capa2017onshore.head()"
   ]
  },
  {
   "cell_type": "code",
   "execution_count": 38,
   "metadata": {},
   "outputs": [
    {
     "name": "stdout",
     "output_type": "stream",
     "text": [
      "Installed Offshore Capacity: 4530.0 MW\n",
      "Installed Onshore Capacity: 147.0 MW\n",
      "Total: 4677.0\n"
     ]
    }
   ],
   "source": [
    "print('Installed Offshore Capacity:',capa2017offshore['Current Installed Capacity [MW]'].sum(),'MW')\n",
    "print('Installed Onshore Capacity:',capa2017onshore['Current Installed Capacity [MW]'].sum(),'MW')\n",
    "print('Total:', capa2017offshore['Current Installed Capacity [MW]'].sum()+capa2017onshore['Current Installed Capacity [MW]'].sum())"
   ]
  },
  {
   "cell_type": "markdown",
   "metadata": {},
   "source": [
    "# Preparation of 'Price' DataFrame"
   ]
  },
  {
   "cell_type": "markdown",
   "metadata": {},
   "source": [
    "The price2017 DataFrame represents the electricity price for each hour throughout the year 2017 for specific European countries, including Germany. "
   ]
  },
  {
   "cell_type": "code",
   "execution_count": 39,
   "metadata": {},
   "outputs": [
    {
     "data": {
      "text/html": [
       "<div>\n",
       "<style>\n",
       "    .dataframe thead tr:only-child th {\n",
       "        text-align: right;\n",
       "    }\n",
       "\n",
       "    .dataframe thead th {\n",
       "        text-align: left;\n",
       "    }\n",
       "\n",
       "    .dataframe tbody tr th {\n",
       "        vertical-align: top;\n",
       "    }\n",
       "</style>\n",
       "<table border=\"1\" class=\"dataframe\">\n",
       "  <thead>\n",
       "    <tr style=\"text-align: right;\">\n",
       "      <th></th>\n",
       "      <th>Date</th>\n",
       "      <th>Time</th>\n",
       "      <th>Germany/Austria/Luxembourg[Euro/MWh]</th>\n",
       "      <th>Denmark 1[Euro/MWh]</th>\n",
       "      <th>Denmark 2[Euro/MWh]</th>\n",
       "      <th>France[Euro/MWh]</th>\n",
       "      <th>Northern Italy[Euro/MWh]</th>\n",
       "      <th>Netherlands[Euro/MWh]</th>\n",
       "      <th>Poland[Euro/MWh]</th>\n",
       "      <th>Sweden 4[Euro/MWh]</th>\n",
       "      <th>Switzerland[Euro/MWh]</th>\n",
       "      <th>Slovenia[Euro/MWh]</th>\n",
       "      <th>Czech Republic[Euro/MWh]</th>\n",
       "      <th>Hungary[Euro/MWh]</th>\n",
       "    </tr>\n",
       "  </thead>\n",
       "  <tbody>\n",
       "    <tr>\n",
       "      <th>0</th>\n",
       "      <td>1/1/17</td>\n",
       "      <td>12:00 AM</td>\n",
       "      <td>20.96</td>\n",
       "      <td>20.96</td>\n",
       "      <td>20.96</td>\n",
       "      <td>58.82</td>\n",
       "      <td>53</td>\n",
       "      <td>42</td>\n",
       "      <td>24.03</td>\n",
       "      <td>24.03</td>\n",
       "      <td>57.04</td>\n",
       "      <td>53.00</td>\n",
       "      <td>18.5</td>\n",
       "      <td>57.25</td>\n",
       "    </tr>\n",
       "    <tr>\n",
       "      <th>1</th>\n",
       "      <td>1/1/17</td>\n",
       "      <td>1:00 AM</td>\n",
       "      <td>20.90</td>\n",
       "      <td>20.9</td>\n",
       "      <td>20.9</td>\n",
       "      <td>58.23</td>\n",
       "      <td>52</td>\n",
       "      <td>49.94</td>\n",
       "      <td>24.03</td>\n",
       "      <td>24.03</td>\n",
       "      <td>51.94</td>\n",
       "      <td>52.00</td>\n",
       "      <td>13.0</td>\n",
       "      <td>50.21</td>\n",
       "    </tr>\n",
       "    <tr>\n",
       "      <th>2</th>\n",
       "      <td>1/1/17</td>\n",
       "      <td>2:00 AM</td>\n",
       "      <td>18.13</td>\n",
       "      <td>18.13</td>\n",
       "      <td>18.13</td>\n",
       "      <td>51.95</td>\n",
       "      <td>51</td>\n",
       "      <td>51.95</td>\n",
       "      <td>24.02</td>\n",
       "      <td>24.02</td>\n",
       "      <td>49.07</td>\n",
       "      <td>51.00</td>\n",
       "      <td>16.0</td>\n",
       "      <td>44.04</td>\n",
       "    </tr>\n",
       "    <tr>\n",
       "      <th>3</th>\n",
       "      <td>1/1/17</td>\n",
       "      <td>3:00 AM</td>\n",
       "      <td>16.03</td>\n",
       "      <td>16.03</td>\n",
       "      <td>16.03</td>\n",
       "      <td>47.27</td>\n",
       "      <td>47.27</td>\n",
       "      <td>40.99</td>\n",
       "      <td>23.04</td>\n",
       "      <td>23.19</td>\n",
       "      <td>45.01</td>\n",
       "      <td>47.27</td>\n",
       "      <td>16.4</td>\n",
       "      <td>32.81</td>\n",
       "    </tr>\n",
       "    <tr>\n",
       "      <th>4</th>\n",
       "      <td>1/1/17</td>\n",
       "      <td>4:00 AM</td>\n",
       "      <td>16.43</td>\n",
       "      <td>16.43</td>\n",
       "      <td>16.43</td>\n",
       "      <td>45.49</td>\n",
       "      <td>45.49</td>\n",
       "      <td>39</td>\n",
       "      <td>18.87</td>\n",
       "      <td>24.1</td>\n",
       "      <td>42.4</td>\n",
       "      <td>45.49</td>\n",
       "      <td>16.0</td>\n",
       "      <td>28.41</td>\n",
       "    </tr>\n",
       "  </tbody>\n",
       "</table>\n",
       "</div>"
      ],
      "text/plain": [
       "     Date      Time  Germany/Austria/Luxembourg[Euro/MWh] Denmark 1[Euro/MWh]  \\\n",
       "0  1/1/17  12:00 AM                                 20.96               20.96   \n",
       "1  1/1/17   1:00 AM                                 20.90                20.9   \n",
       "2  1/1/17   2:00 AM                                 18.13               18.13   \n",
       "3  1/1/17   3:00 AM                                 16.03               16.03   \n",
       "4  1/1/17   4:00 AM                                 16.43               16.43   \n",
       "\n",
       "  Denmark 2[Euro/MWh] France[Euro/MWh] Northern Italy[Euro/MWh]  \\\n",
       "0               20.96            58.82                       53   \n",
       "1                20.9            58.23                       52   \n",
       "2               18.13            51.95                       51   \n",
       "3               16.03            47.27                    47.27   \n",
       "4               16.43            45.49                    45.49   \n",
       "\n",
       "  Netherlands[Euro/MWh] Poland[Euro/MWh] Sweden 4[Euro/MWh]  \\\n",
       "0                    42            24.03              24.03   \n",
       "1                 49.94            24.03              24.03   \n",
       "2                 51.95            24.02              24.02   \n",
       "3                 40.99            23.04              23.19   \n",
       "4                    39            18.87               24.1   \n",
       "\n",
       "  Switzerland[Euro/MWh]  Slovenia[Euro/MWh]  Czech Republic[Euro/MWh]  \\\n",
       "0                 57.04               53.00                      18.5   \n",
       "1                 51.94               52.00                      13.0   \n",
       "2                 49.07               51.00                      16.0   \n",
       "3                 45.01               47.27                      16.4   \n",
       "4                  42.4               45.49                      16.0   \n",
       "\n",
       "  Hungary[Euro/MWh]  \n",
       "0             57.25  \n",
       "1             50.21  \n",
       "2             44.04  \n",
       "3             32.81  \n",
       "4             28.41  "
      ]
     },
     "execution_count": 39,
     "metadata": {},
     "output_type": "execute_result"
    }
   ],
   "source": [
    "price2017.head()"
   ]
  },
  {
   "cell_type": "code",
   "execution_count": 41,
   "metadata": {},
   "outputs": [
    {
     "data": {
      "text/html": [
       "<div>\n",
       "<style>\n",
       "    .dataframe thead tr:only-child th {\n",
       "        text-align: right;\n",
       "    }\n",
       "\n",
       "    .dataframe thead th {\n",
       "        text-align: left;\n",
       "    }\n",
       "\n",
       "    .dataframe tbody tr th {\n",
       "        vertical-align: top;\n",
       "    }\n",
       "</style>\n",
       "<table border=\"1\" class=\"dataframe\">\n",
       "  <thead>\n",
       "    <tr style=\"text-align: right;\">\n",
       "      <th></th>\n",
       "      <th>Date</th>\n",
       "      <th>Time</th>\n",
       "      <th>DE-AT-LUX</th>\n",
       "    </tr>\n",
       "  </thead>\n",
       "  <tbody>\n",
       "    <tr>\n",
       "      <th>0</th>\n",
       "      <td>1/1/17</td>\n",
       "      <td>12:00 AM</td>\n",
       "      <td>20.96</td>\n",
       "    </tr>\n",
       "    <tr>\n",
       "      <th>1</th>\n",
       "      <td>1/1/17</td>\n",
       "      <td>1:00 AM</td>\n",
       "      <td>20.90</td>\n",
       "    </tr>\n",
       "    <tr>\n",
       "      <th>2</th>\n",
       "      <td>1/1/17</td>\n",
       "      <td>2:00 AM</td>\n",
       "      <td>18.13</td>\n",
       "    </tr>\n",
       "    <tr>\n",
       "      <th>3</th>\n",
       "      <td>1/1/17</td>\n",
       "      <td>3:00 AM</td>\n",
       "      <td>16.03</td>\n",
       "    </tr>\n",
       "    <tr>\n",
       "      <th>4</th>\n",
       "      <td>1/1/17</td>\n",
       "      <td>4:00 AM</td>\n",
       "      <td>16.43</td>\n",
       "    </tr>\n",
       "  </tbody>\n",
       "</table>\n",
       "</div>"
      ],
      "text/plain": [
       "     Date      Time  DE-AT-LUX\n",
       "0  1/1/17  12:00 AM      20.96\n",
       "1  1/1/17   1:00 AM      20.90\n",
       "2  1/1/17   2:00 AM      18.13\n",
       "3  1/1/17   3:00 AM      16.03\n",
       "4  1/1/17   4:00 AM      16.43"
      ]
     },
     "execution_count": 41,
     "metadata": {},
     "output_type": "execute_result"
    }
   ],
   "source": [
    "# slice price DataFrame to show only Germany\n",
    "\n",
    "price2017 = price2017[['Date', 'Time', 'Germany/Austria/Luxembourg[Euro/MWh]']]\n",
    "price2017.columns = ['Date', 'Time', 'DE-AT-LUX']\n",
    "price2017.head()"
   ]
  },
  {
   "cell_type": "code",
   "execution_count": 42,
   "metadata": {},
   "outputs": [
    {
     "data": {
      "text/plain": [
       "Date          object\n",
       "Time          object\n",
       "DE-AT-LUX    float64\n",
       "dtype: object"
      ]
     },
     "execution_count": 42,
     "metadata": {},
     "output_type": "execute_result"
    }
   ],
   "source": [
    "price2017.dtypes"
   ]
  },
  {
   "cell_type": "markdown",
   "metadata": {},
   "source": [
    "In the chart below we see the hourly electricity price change in Germany. Most of the time the range of price change is relatively stable, however at some points there is a very abrupt jump in price or the opposite, a negative price. "
   ]
  },
  {
   "cell_type": "code",
   "execution_count": 43,
   "metadata": {},
   "outputs": [
    {
     "data": {
      "text/plain": [
       "<matplotlib.text.Text at 0x1693b562d30>"
      ]
     },
     "execution_count": 43,
     "metadata": {},
     "output_type": "execute_result"
    },
    {
     "data": {
      "image/png": "[encoded data removed]",
      "text/plain": [
       "<matplotlib.figure.Figure at 0x1693b790630>"
      ]
     },
     "metadata": {},
     "output_type": "display_data"
    }
   ],
   "source": [
    "#plot the horuly energy price for 2017\n",
    "\n",
    "fig, ax = plt.subplots() \n",
    "price2017['DE-AT-LUX'].plot(ax=ax, title=\"Market Price 2017 (DE-AT-LUX)\", lw=0.7)\n",
    "ax.set_ylabel(\"Market Price\")\n",
    "ax.set_xlabel(\"Time\")"
   ]
  },
  {
   "cell_type": "markdown",
   "metadata": {},
   "source": [
    "# Combining the necessary data from the available Data Sets"
   ]
  },
  {
   "cell_type": "markdown",
   "metadata": {},
   "source": [
    "Now that we have all the necessary data to observe collerations between energy production and prices, we need to combine the DataFrame with energy prices and the DataFrame with energy generation by merging them based on the dates (day, time 2017). The reason we merge these two DataFrames in order to show the correlatin between price and weather is because:\n",
    "\n",
    "1. It would be a very complicated task to aggregate historical data about weather that is available by regions of the country.\n",
    "2. The correlation between wind and generation of wind power is obvious and hardly needs proof. Consequently, we can assume that correlation between energy price and wind energy generation will show correlation between energy price and wind (same with Solar energy).\n",
    "\n",
    "To merge the DataFrames, first we need to identify the common date unit and adjust the loaded DataFrames accordingly. The common DateTime format for both DataFrames would be a column that contains the day and hour (since our price data contains hourly prices and energy generation data contains generation volume for each 15 mins). "
   ]
  },
  {
   "cell_type": "code",
   "execution_count": 44,
   "metadata": {},
   "outputs": [
    {
     "name": "stderr",
     "output_type": "stream",
     "text": [
      "C:\\Users\\eniko\\Anaconda3\\lib\\site-packages\\ipykernel_launcher.py:3: SettingWithCopyWarning: \n",
      "A value is trying to be set on a copy of a slice from a DataFrame.\n",
      "Try using .loc[row_indexer,col_indexer] = value instead\n",
      "\n",
      "See the caveats in the documentation: http://pandas.pydata.org/pandas-docs/stable/indexing.html#indexing-view-versus-copy\n",
      "  This is separate from the ipykernel package so we can avoid doing imports until\n"
     ]
    }
   ],
   "source": [
    "# Create the 'DateTime' column in the price2017 DataFrame\n",
    "\n",
    "price2017['DateTime'] = pd.to_datetime(price2017['Date'] + ' ' + price2017['Time'])"
   ]
  },
  {
   "cell_type": "code",
   "execution_count": 46,
   "metadata": {},
   "outputs": [],
   "source": [
    "# Remove the 'Date' and 'Time' columns\n",
    "\n",
    "price2017 = price2017.drop(['Date','Time'], axis=1)"
   ]
  },
  {
   "cell_type": "code",
   "execution_count": 85,
   "metadata": {},
   "outputs": [],
   "source": [
    "price2017 = price2017.rename(columns={'DE-AT-LUX':'Price_Germany'})"
   ]
  },
  {
   "cell_type": "code",
   "execution_count": 86,
   "metadata": {},
   "outputs": [
    {
     "data": {
      "text/html": [
       "<div>\n",
       "<style>\n",
       "    .dataframe thead tr:only-child th {\n",
       "        text-align: right;\n",
       "    }\n",
       "\n",
       "    .dataframe thead th {\n",
       "        text-align: left;\n",
       "    }\n",
       "\n",
       "    .dataframe tbody tr th {\n",
       "        vertical-align: top;\n",
       "    }\n",
       "</style>\n",
       "<table border=\"1\" class=\"dataframe\">\n",
       "  <thead>\n",
       "    <tr style=\"text-align: right;\">\n",
       "      <th></th>\n",
       "      <th>Price_Germany</th>\n",
       "      <th>DateTime</th>\n",
       "    </tr>\n",
       "  </thead>\n",
       "  <tbody>\n",
       "    <tr>\n",
       "      <th>0</th>\n",
       "      <td>20.96</td>\n",
       "      <td>2017-01-01 00:00:00</td>\n",
       "    </tr>\n",
       "    <tr>\n",
       "      <th>1</th>\n",
       "      <td>20.90</td>\n",
       "      <td>2017-01-01 01:00:00</td>\n",
       "    </tr>\n",
       "    <tr>\n",
       "      <th>2</th>\n",
       "      <td>18.13</td>\n",
       "      <td>2017-01-01 02:00:00</td>\n",
       "    </tr>\n",
       "    <tr>\n",
       "      <th>3</th>\n",
       "      <td>16.03</td>\n",
       "      <td>2017-01-01 03:00:00</td>\n",
       "    </tr>\n",
       "    <tr>\n",
       "      <th>4</th>\n",
       "      <td>16.43</td>\n",
       "      <td>2017-01-01 04:00:00</td>\n",
       "    </tr>\n",
       "  </tbody>\n",
       "</table>\n",
       "</div>"
      ],
      "text/plain": [
       "   Price_Germany            DateTime\n",
       "0          20.96 2017-01-01 00:00:00\n",
       "1          20.90 2017-01-01 01:00:00\n",
       "2          18.13 2017-01-01 02:00:00\n",
       "3          16.03 2017-01-01 03:00:00\n",
       "4          16.43 2017-01-01 04:00:00"
      ]
     },
     "execution_count": 86,
     "metadata": {},
     "output_type": "execute_result"
    }
   ],
   "source": [
    "price2017.head()"
   ]
  },
  {
   "cell_type": "code",
   "execution_count": 78,
   "metadata": {},
   "outputs": [],
   "source": [
    "# Previously, we left only every forth row of the type2017 DataFrame and  created \n",
    "# the typesub2017 DataFrame based on that. Now we'll multiply the value by 4\n",
    "# in order to get the hourly energy generation volume (assuming that within the same hour\n",
    "# energy generated every 15 mins is relatively stable)\n",
    "\n",
    "typesub2017['Solar'] = typesub2017['Solar'].multiply(4)\n",
    "typesub2017['Wind Offshore'] = typesub2017['Wind Offshore'].multiply(4)\n",
    "typesub2017['Wind Onshore'] = typesub2017['Wind Onshore'].multiply(4)"
   ]
  },
  {
   "cell_type": "code",
   "execution_count": 79,
   "metadata": {
    "collapsed": true
   },
   "outputs": [],
   "source": [
    "# Cretae the DateTime column from the TimeDelta column that we have in the energy generation data\n",
    "\n",
    "typesub2017['MTU2'] = typesub2017.MTU.str[:16]\n",
    "typesub2017['DateTime'] = pd.to_datetime(typesub2017['MTU2'])"
   ]
  },
  {
   "cell_type": "code",
   "execution_count": 80,
   "metadata": {
    "collapsed": true
   },
   "outputs": [],
   "source": [
    "# Removing the MTU and MTU2 columns\n",
    "\n",
    "typesub2017 = typesub2017.drop(['MTU','MTU2'],axis=1)"
   ]
  },
  {
   "cell_type": "code",
   "execution_count": 87,
   "metadata": {},
   "outputs": [
    {
     "data": {
      "text/html": [
       "<div>\n",
       "<style>\n",
       "    .dataframe thead tr:only-child th {\n",
       "        text-align: right;\n",
       "    }\n",
       "\n",
       "    .dataframe thead th {\n",
       "        text-align: left;\n",
       "    }\n",
       "\n",
       "    .dataframe tbody tr th {\n",
       "        vertical-align: top;\n",
       "    }\n",
       "</style>\n",
       "<table border=\"1\" class=\"dataframe\">\n",
       "  <thead>\n",
       "    <tr style=\"text-align: right;\">\n",
       "      <th></th>\n",
       "      <th>Solar</th>\n",
       "      <th>Wind Offshore</th>\n",
       "      <th>Wind Onshore</th>\n",
       "      <th>DateTime</th>\n",
       "    </tr>\n",
       "  </thead>\n",
       "  <tbody>\n",
       "    <tr>\n",
       "      <th>0</th>\n",
       "      <td>0</td>\n",
       "      <td>13200</td>\n",
       "      <td>48560</td>\n",
       "      <td>2017-01-01 00:00:00</td>\n",
       "    </tr>\n",
       "    <tr>\n",
       "      <th>4</th>\n",
       "      <td>0</td>\n",
       "      <td>13232</td>\n",
       "      <td>48624</td>\n",
       "      <td>2017-01-01 01:00:00</td>\n",
       "    </tr>\n",
       "    <tr>\n",
       "      <th>8</th>\n",
       "      <td>0</td>\n",
       "      <td>13200</td>\n",
       "      <td>48280</td>\n",
       "      <td>2017-01-01 02:00:00</td>\n",
       "    </tr>\n",
       "    <tr>\n",
       "      <th>12</th>\n",
       "      <td>0</td>\n",
       "      <td>13192</td>\n",
       "      <td>46156</td>\n",
       "      <td>2017-01-01 03:00:00</td>\n",
       "    </tr>\n",
       "    <tr>\n",
       "      <th>16</th>\n",
       "      <td>0</td>\n",
       "      <td>13208</td>\n",
       "      <td>46488</td>\n",
       "      <td>2017-01-01 04:00:00</td>\n",
       "    </tr>\n",
       "  </tbody>\n",
       "</table>\n",
       "</div>"
      ],
      "text/plain": [
       "    Solar  Wind Offshore  Wind Onshore            DateTime\n",
       "0       0          13200         48560 2017-01-01 00:00:00\n",
       "4       0          13232         48624 2017-01-01 01:00:00\n",
       "8       0          13200         48280 2017-01-01 02:00:00\n",
       "12      0          13192         46156 2017-01-01 03:00:00\n",
       "16      0          13208         46488 2017-01-01 04:00:00"
      ]
     },
     "execution_count": 87,
     "metadata": {},
     "output_type": "execute_result"
    }
   ],
   "source": [
    "typesub2017.head()"
   ]
  },
  {
   "cell_type": "code",
   "execution_count": 88,
   "metadata": {
    "collapsed": true
   },
   "outputs": [],
   "source": [
    "# Merge the two DataFrames based on DateTime \n",
    "# using inner join with price data as left (since price data is shorter)\n",
    "\n",
    "merged = price2017.merge(typesub2017,how='inner',left_on='DateTime',right_on='DateTime')"
   ]
  },
  {
   "cell_type": "code",
   "execution_count": 89,
   "metadata": {
    "collapsed": true
   },
   "outputs": [],
   "source": [
    "# Set DateTime as index\n",
    "\n",
    "merged = merged.set_index('DateTime')"
   ]
  },
  {
   "cell_type": "code",
   "execution_count": 90,
   "metadata": {},
   "outputs": [
    {
     "data": {
      "text/html": [
       "<div>\n",
       "<style>\n",
       "    .dataframe thead tr:only-child th {\n",
       "        text-align: right;\n",
       "    }\n",
       "\n",
       "    .dataframe thead th {\n",
       "        text-align: left;\n",
       "    }\n",
       "\n",
       "    .dataframe tbody tr th {\n",
       "        vertical-align: top;\n",
       "    }\n",
       "</style>\n",
       "<table border=\"1\" class=\"dataframe\">\n",
       "  <thead>\n",
       "    <tr style=\"text-align: right;\">\n",
       "      <th></th>\n",
       "      <th>Price_Germany</th>\n",
       "      <th>Solar</th>\n",
       "      <th>Wind Offshore</th>\n",
       "      <th>Wind Onshore</th>\n",
       "    </tr>\n",
       "    <tr>\n",
       "      <th>DateTime</th>\n",
       "      <th></th>\n",
       "      <th></th>\n",
       "      <th></th>\n",
       "      <th></th>\n",
       "    </tr>\n",
       "  </thead>\n",
       "  <tbody>\n",
       "    <tr>\n",
       "      <th>2017-01-01 00:00:00</th>\n",
       "      <td>20.96</td>\n",
       "      <td>0</td>\n",
       "      <td>13200</td>\n",
       "      <td>48560</td>\n",
       "    </tr>\n",
       "    <tr>\n",
       "      <th>2017-01-01 01:00:00</th>\n",
       "      <td>20.90</td>\n",
       "      <td>0</td>\n",
       "      <td>13232</td>\n",
       "      <td>48624</td>\n",
       "    </tr>\n",
       "    <tr>\n",
       "      <th>2017-01-01 02:00:00</th>\n",
       "      <td>18.13</td>\n",
       "      <td>0</td>\n",
       "      <td>13200</td>\n",
       "      <td>48280</td>\n",
       "    </tr>\n",
       "    <tr>\n",
       "      <th>2017-01-01 03:00:00</th>\n",
       "      <td>16.03</td>\n",
       "      <td>0</td>\n",
       "      <td>13192</td>\n",
       "      <td>46156</td>\n",
       "    </tr>\n",
       "    <tr>\n",
       "      <th>2017-01-01 04:00:00</th>\n",
       "      <td>16.43</td>\n",
       "      <td>0</td>\n",
       "      <td>13208</td>\n",
       "      <td>46488</td>\n",
       "    </tr>\n",
       "  </tbody>\n",
       "</table>\n",
       "</div>"
      ],
      "text/plain": [
       "                     Price_Germany  Solar  Wind Offshore  Wind Onshore\n",
       "DateTime                                                              \n",
       "2017-01-01 00:00:00          20.96      0          13200         48560\n",
       "2017-01-01 01:00:00          20.90      0          13232         48624\n",
       "2017-01-01 02:00:00          18.13      0          13200         48280\n",
       "2017-01-01 03:00:00          16.03      0          13192         46156\n",
       "2017-01-01 04:00:00          16.43      0          13208         46488"
      ]
     },
     "execution_count": 90,
     "metadata": {},
     "output_type": "execute_result"
    }
   ],
   "source": [
    "merged.head()"
   ]
  },
  {
   "cell_type": "code",
   "execution_count": 91,
   "metadata": {},
   "outputs": [
    {
     "data": {
      "text/html": [
       "<div>\n",
       "<style>\n",
       "    .dataframe thead tr:only-child th {\n",
       "        text-align: right;\n",
       "    }\n",
       "\n",
       "    .dataframe thead th {\n",
       "        text-align: left;\n",
       "    }\n",
       "\n",
       "    .dataframe tbody tr th {\n",
       "        vertical-align: top;\n",
       "    }\n",
       "</style>\n",
       "<table border=\"1\" class=\"dataframe\">\n",
       "  <thead>\n",
       "    <tr style=\"text-align: right;\">\n",
       "      <th></th>\n",
       "      <th>Price_Germany</th>\n",
       "      <th>Solar</th>\n",
       "      <th>Wind Offshore</th>\n",
       "      <th>Wind Onshore</th>\n",
       "    </tr>\n",
       "  </thead>\n",
       "  <tbody>\n",
       "    <tr>\n",
       "      <th>Price_Germany</th>\n",
       "      <td>1.000000</td>\n",
       "      <td>-0.033750</td>\n",
       "      <td>-0.225997</td>\n",
       "      <td>-0.321930</td>\n",
       "    </tr>\n",
       "    <tr>\n",
       "      <th>Solar</th>\n",
       "      <td>-0.033750</td>\n",
       "      <td>1.000000</td>\n",
       "      <td>-0.138782</td>\n",
       "      <td>-0.155728</td>\n",
       "    </tr>\n",
       "    <tr>\n",
       "      <th>Wind Offshore</th>\n",
       "      <td>-0.225997</td>\n",
       "      <td>-0.138782</td>\n",
       "      <td>1.000000</td>\n",
       "      <td>0.668174</td>\n",
       "    </tr>\n",
       "    <tr>\n",
       "      <th>Wind Onshore</th>\n",
       "      <td>-0.321930</td>\n",
       "      <td>-0.155728</td>\n",
       "      <td>0.668174</td>\n",
       "      <td>1.000000</td>\n",
       "    </tr>\n",
       "  </tbody>\n",
       "</table>\n",
       "</div>"
      ],
      "text/plain": [
       "               Price_Germany     Solar  Wind Offshore  Wind Onshore\n",
       "Price_Germany       1.000000 -0.033750      -0.225997     -0.321930\n",
       "Solar              -0.033750  1.000000      -0.138782     -0.155728\n",
       "Wind Offshore      -0.225997 -0.138782       1.000000      0.668174\n",
       "Wind Onshore       -0.321930 -0.155728       0.668174      1.000000"
      ]
     },
     "execution_count": 91,
     "metadata": {},
     "output_type": "execute_result"
    }
   ],
   "source": [
    "merged.corr()"
   ]
  },
  {
   "cell_type": "markdown",
   "metadata": {},
   "source": [
    "We see that the energy price has 0.23 and 0.32 negative correlation with Offshore and Onshore Wind respectively. Although correlation is not very high, it's still significant and essentially influences the energy price during windy weather. "
   ]
  },
  {
   "cell_type": "markdown",
   "metadata": {},
   "source": [
    "# WORKING UNTIL HERE"
   ]
  },
  {
   "cell_type": "code",
   "execution_count": null,
   "metadata": {
    "collapsed": true
   },
   "outputs": [],
   "source": []
  }
 ],
 "metadata": {
  "kernelspec": {
   "display_name": "Python 3",
   "language": "python",
   "name": "python3"
  },
  "language_info": {
   "codemirror_mode": {
    "name": "ipython",
    "version": 3
   },
   "file_extension": ".py",
   "mimetype": "text/x-python",
   "name": "python",
   "nbconvert_exporter": "python",
   "pygments_lexer": "ipython3",
   "version": "3.6.2"
  }
 },
 "nbformat": 4,
 "nbformat_minor": 2
}
